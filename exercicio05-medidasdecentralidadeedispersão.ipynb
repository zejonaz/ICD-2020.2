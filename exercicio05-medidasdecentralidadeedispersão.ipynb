{
 "cells": [
  {
   "cell_type": "markdown",
   "metadata": {},
   "source": [
    "# Introdução à Ciência de Dados - UFPB\n",
    "Professor: Yuri Malheiros\n",
    "\n",
    "## Medidas de Centralidade e Dispersão"
   ]
  },
  {
   "cell_type": "markdown",
   "metadata": {},
   "source": [
    "A partir do dataset `movies.csv` calcule a média, mediana e desvio padrão para as colunas:"
   ]
  },
  {
   "cell_type": "code",
   "execution_count": 13,
   "metadata": {},
   "outputs": [],
   "source": [
    "import pandas as pd\n",
    "import numpy as np\n",
    "import math as mt\n",
    "movies = pd.read_csv('movies.csv')"
   ]
  },
  {
   "cell_type": "markdown",
   "metadata": {},
   "source": [
    "### US Gross"
   ]
  },
  {
   "cell_type": "code",
   "execution_count": 14,
   "metadata": {},
   "outputs": [
    {
     "name": "stdout",
     "output_type": "stream",
     "text": [
      "Média: 44002085.163744524\n",
      "Mediana: nan\n",
      "Desvio Padrão: 62545517.99547237\n"
     ]
    }
   ],
   "source": [
    "print('Média:',np.mean(movies['US Gross']))\n",
    "print('Mediana:',np.median(movies['US Gross']))\n",
    "print('Desvio Padrão:',mt.sqrt(np.var(movies['US Gross'])))"
   ]
  },
  {
   "cell_type": "markdown",
   "metadata": {},
   "source": [
    "### Production Budget"
   ]
  },
  {
   "cell_type": "code",
   "execution_count": 15,
   "metadata": {},
   "outputs": [
    {
     "name": "stdout",
     "output_type": "stream",
     "text": [
      "Média: 31069171.4484375\n",
      "Mediana: nan\n",
      "Desvio Padrão: 35580352.711202495\n"
     ]
    }
   ],
   "source": [
    "print('Média:',np.mean(movies['Production Budget']))\n",
    "print('Mediana:',np.median(movies['Production Budget']))\n",
    "print('Desvio Padrão:',mt.sqrt(np.var(movies['Production Budget'])))"
   ]
  },
  {
   "cell_type": "markdown",
   "metadata": {},
   "source": [
    "### Running Time"
   ]
  },
  {
   "cell_type": "code",
   "execution_count": 16,
   "metadata": {},
   "outputs": [
    {
     "name": "stdout",
     "output_type": "stream",
     "text": [
      "Média: 110.19354838709677\n",
      "Mediana: nan\n",
      "Desvio Padrão: 20.162669927984\n"
     ]
    }
   ],
   "source": [
    "print('Média:',np.mean(movies['Running Time (min)']))\n",
    "print('Mediana:',np.median(movies['Running Time (min)']))\n",
    "print('Desvio Padrão:',mt.sqrt(np.var(movies['Running Time (min)'])))"
   ]
  },
  {
   "cell_type": "markdown",
   "metadata": {},
   "source": [
    "### IMDB Rating"
   ]
  },
  {
   "cell_type": "code",
   "execution_count": 17,
   "metadata": {},
   "outputs": [
    {
     "name": "stdout",
     "output_type": "stream",
     "text": [
      "Média: 6.283467202141896\n",
      "Mediana: nan\n",
      "Desvio Padrão: 1.2520803678620736\n"
     ]
    }
   ],
   "source": [
    "print('Média:',np.mean(movies['IMDB Rating']))\n",
    "print('Mediana:',np.median(movies['IMDB Rating']))\n",
    "print('Desvio Padrão:',mt.sqrt(np.var(movies['IMDB Rating'])))"
   ]
  },
  {
   "cell_type": "markdown",
   "metadata": {},
   "source": [
    "### IMDB Votes"
   ]
  },
  {
   "cell_type": "code",
   "execution_count": 18,
   "metadata": {},
   "outputs": [
    {
     "name": "stdout",
     "output_type": "stream",
     "text": [
      "Média: 29908.64457831325\n",
      "Mediana: nan\n",
      "Desvio Padrão: 44930.0620300292\n"
     ]
    }
   ],
   "source": [
    "print('Média:',np.mean(movies['IMDB Votes']))\n",
    "print('Mediana:',np.median(movies['IMDB Votes']))\n",
    "print('Desvio Padrão:',mt.sqrt(np.var(movies['IMDB Votes'])))"
   ]
  },
  {
   "cell_type": "markdown",
   "metadata": {},
   "source": [
    "### Análise dos Resultados\n",
    "\n",
    "Quais colunas tiveram valores muito diferentes entre média e mediana? Quais os seus desvios padrão?"
   ]
  },
  {
   "cell_type": "markdown",
   "metadata": {},
   "source": [
    "**RESPONDA AQUI**"
   ]
  },
  {
   "cell_type": "code",
   "execution_count": 19,
   "metadata": {},
   "outputs": [],
   "source": [
    "# A mediana retorna um valor de nan, então não da pra saber a diferença entre elas."
   ]
  },
  {
   "cell_type": "markdown",
   "metadata": {},
   "source": [
    "Que conclusões podemos tirar desses resultados?"
   ]
  },
  {
   "cell_type": "markdown",
   "metadata": {},
   "source": [
    "**RESPONDA AQUI**"
   ]
  },
  {
   "cell_type": "code",
   "execution_count": 20,
   "metadata": {},
   "outputs": [],
   "source": [
    "# A média não retorna resultado preciso, porque o desvio padrão retorna um numero muito alto."
   ]
  },
  {
   "cell_type": "code",
   "execution_count": null,
   "metadata": {},
   "outputs": [],
   "source": []
  }
 ],
 "metadata": {
  "kernelspec": {
   "display_name": "Python 3",
   "language": "python",
   "name": "python3"
  },
  "language_info": {
   "codemirror_mode": {
    "name": "ipython",
    "version": 3
   },
   "file_extension": ".py",
   "mimetype": "text/x-python",
   "name": "python",
   "nbconvert_exporter": "python",
   "pygments_lexer": "ipython3",
   "version": "3.8.3"
  }
 },
 "nbformat": 4,
 "nbformat_minor": 4
}
