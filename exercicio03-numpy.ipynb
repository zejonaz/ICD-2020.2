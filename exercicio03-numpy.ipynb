{
 "cells": [
  {
   "cell_type": "code",
   "execution_count": 1,
   "metadata": {},
   "outputs": [],
   "source": [
    "import numpy as np\n",
    "import math\n",
    "p1 = np.array([0,0])\n",
    "p2 = np.array([1,1])\n",
    "def distance(p1, p2):\n",
    "    \"\"\"\n",
    "    >>> distance(np.array([0,0]), np.array([1,1]))\n",
    "    1.4142135623730951\n",
    "    \n",
    "    >>> distance(np.array([1,2]), np.array([3,4]))\n",
    "    2.8284271247461903\n",
    "    \n",
    "    >>> distance(np.array([5,2]), np.array([-2,-1]))\n",
    "    7.615773105863909\n",
    "    \"\"\"\n",
    "    x=[]\n",
    "    for i in range(len(p1)):\n",
    "        p= p2-p1\n",
    "        x.append( math.pow(p[i],2))\n",
    "        a = np.array(x)\n",
    "    \n",
    "        distancia = math.sqrt(np.sum(a))\n",
    "    return distancia"
   ]
  },
  {
   "cell_type": "code",
   "execution_count": 2,
   "metadata": {
    "scrolled": false
   },
   "outputs": [
    {
     "data": {
      "text/plain": [
       "1.4142135623730951"
      ]
     },
     "execution_count": 2,
     "metadata": {},
     "output_type": "execute_result"
    }
   ],
   "source": [
    "distance(p1,p2)"
   ]
  },
  {
   "cell_type": "code",
   "execution_count": 3,
   "metadata": {},
   "outputs": [],
   "source": [
    "p1 = np.array([1,2])\n",
    "p2 = np.array([1,1])\n",
    "points = np.array([[3,-1], [2,1], [5, 2], [10, 1], [-2, -5]])\n",
    "def n_distances(p1, points):\n",
    "    \"\"\"\n",
    "    >>> n_distances(np.array([0,0]), np.array([[1,1]]))\n",
    "    array([1.41421356])\n",
    "    \n",
    "    >>> n_distances(np.array([0,0]), np.array([[1,1], [2,2]]))\n",
    "    array([1.41421356, 2.82842712])\n",
    "    \n",
    "    >>> n_distances(np.array([1,2]), np.array([[3,-1], [2,1], [5, 2], [10, 1], [-2, -5]]))\n",
    "    array([3.60555128, 1.41421356, 4.        , 9.05538514, 7.61577311])\n",
    "    \"\"\"\n",
    "    P1 = points[0:] - p1\n",
    "    P2 = points[0:] - p1\n",
    "    PX = P1*P2\n",
    "    y = np.sum(PX,axis = 1 )\n",
    "\n",
    "    x = []\n",
    "    for i in range(len(y)):\n",
    "        x.append(math.sqrt(y[i]))\n",
    "    n_dist = np.array(x)\n",
    "    return n_dist"
   ]
  },
  {
   "cell_type": "code",
   "execution_count": 4,
   "metadata": {},
   "outputs": [
    {
     "data": {
      "text/plain": [
       "array([3.60555128, 1.41421356, 4.        , 9.05538514, 7.61577311])"
      ]
     },
     "execution_count": 4,
     "metadata": {},
     "output_type": "execute_result"
    }
   ],
   "source": [
    "n_distances(p1, points)"
   ]
  },
  {
   "cell_type": "code",
   "execution_count": 5,
   "metadata": {},
   "outputs": [
    {
     "name": "stdout",
     "output_type": "stream",
     "text": [
      "Trying:\n",
      "    distance(np.array([0,0]), np.array([1,1]))\n",
      "Expecting:\n",
      "    1.4142135623730951\n",
      "ok\n",
      "Trying:\n",
      "    distance(np.array([1,2]), np.array([3,4]))\n",
      "Expecting:\n",
      "    2.8284271247461903\n",
      "ok\n",
      "Trying:\n",
      "    distance(np.array([5,2]), np.array([-2,-1]))\n",
      "Expecting:\n",
      "    7.615773105863909\n",
      "ok\n",
      "Trying:\n",
      "    n_distances(np.array([0,0]), np.array([[1,1]]))\n",
      "Expecting:\n",
      "    array([1.41421356])\n",
      "ok\n",
      "Trying:\n",
      "    n_distances(np.array([0,0]), np.array([[1,1], [2,2]]))\n",
      "Expecting:\n",
      "    array([1.41421356, 2.82842712])\n",
      "ok\n",
      "Trying:\n",
      "    n_distances(np.array([1,2]), np.array([[3,-1], [2,1], [5, 2], [10, 1], [-2, -5]]))\n",
      "Expecting:\n",
      "    array([3.60555128, 1.41421356, 4.        , 9.05538514, 7.61577311])\n",
      "ok\n",
      "1 items had no tests:\n",
      "    __main__\n",
      "2 items passed all tests:\n",
      "   3 tests in __main__.distance\n",
      "   3 tests in __main__.n_distances\n",
      "6 tests in 3 items.\n",
      "6 passed and 0 failed.\n",
      "Test passed.\n"
     ]
    },
    {
     "data": {
      "text/plain": [
       "TestResults(failed=0, attempted=6)"
      ]
     },
     "execution_count": 5,
     "metadata": {},
     "output_type": "execute_result"
    }
   ],
   "source": [
    "import doctest\n",
    "\n",
    "doctest.testmod(verbose=True)"
   ]
  },
  {
   "cell_type": "code",
   "execution_count": null,
   "metadata": {},
   "outputs": [],
   "source": []
  }
 ],
 "metadata": {
  "kernelspec": {
   "display_name": "Python 3",
   "language": "python",
   "name": "python3"
  },
  "language_info": {
   "codemirror_mode": {
    "name": "ipython",
    "version": 3
   },
   "file_extension": ".py",
   "mimetype": "text/x-python",
   "name": "python",
   "nbconvert_exporter": "python",
   "pygments_lexer": "ipython3",
   "version": "3.8.3"
  }
 },
 "nbformat": 4,
 "nbformat_minor": 4
}
