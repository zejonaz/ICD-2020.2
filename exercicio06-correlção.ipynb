{
 "cells": [
  {
   "cell_type": "markdown",
   "metadata": {},
   "source": [
    "# Introdução à Ciência de Dados - UFPB\n",
    "Professor: Yuri Malheiros\n",
    "\n",
    "## Correlação"
   ]
  },
  {
   "cell_type": "markdown",
   "metadata": {},
   "source": [
    "Colete os seguintes dados dos times do campeonato brasileiro de 2020:\n",
    "\n",
    "- Pontos\n",
    "- Gols marcados\n",
    "- Gol sofridos\n",
    "\n",
    "Você pode encontrar esses dados no site da CBF (www.cbf.com.br)\n",
    "\n",
    "Calcule a correlação entre:\n",
    "\n",
    "- Pontos e gols marcados\n",
    "- Pontos e gols sofridos"
   ]
  },
  {
   "cell_type": "code",
   "execution_count": 22,
   "metadata": {},
   "outputs": [
    {
     "data": {
      "text/html": [
       "<div>\n",
       "<style scoped>\n",
       "    .dataframe tbody tr th:only-of-type {\n",
       "        vertical-align: middle;\n",
       "    }\n",
       "\n",
       "    .dataframe tbody tr th {\n",
       "        vertical-align: top;\n",
       "    }\n",
       "\n",
       "    .dataframe thead th {\n",
       "        text-align: right;\n",
       "    }\n",
       "</style>\n",
       "<table border=\"1\" class=\"dataframe\">\n",
       "  <thead>\n",
       "    <tr style=\"text-align: right;\">\n",
       "      <th></th>\n",
       "      <th>Classificação</th>\n",
       "      <th>Time</th>\n",
       "      <th>Pontos</th>\n",
       "      <th>Jogos</th>\n",
       "      <th>Vitórias</th>\n",
       "      <th>Empates</th>\n",
       "      <th>Derrotas</th>\n",
       "      <th>Gols pró</th>\n",
       "      <th>Gols contra</th>\n",
       "      <th>Saldo de gols</th>\n",
       "      <th>Aproveitamento</th>\n",
       "    </tr>\n",
       "  </thead>\n",
       "  <tbody>\n",
       "    <tr>\n",
       "      <th>0</th>\n",
       "      <td>1</td>\n",
       "      <td>Flamengo RJ</td>\n",
       "      <td>71</td>\n",
       "      <td>38</td>\n",
       "      <td>21</td>\n",
       "      <td>8</td>\n",
       "      <td>9</td>\n",
       "      <td>68</td>\n",
       "      <td>48</td>\n",
       "      <td>20</td>\n",
       "      <td>62.3%</td>\n",
       "    </tr>\n",
       "    <tr>\n",
       "      <th>1</th>\n",
       "      <td>2</td>\n",
       "      <td>Internacional RS</td>\n",
       "      <td>70</td>\n",
       "      <td>38</td>\n",
       "      <td>20</td>\n",
       "      <td>10</td>\n",
       "      <td>8</td>\n",
       "      <td>61</td>\n",
       "      <td>35</td>\n",
       "      <td>26</td>\n",
       "      <td>61.4%</td>\n",
       "    </tr>\n",
       "    <tr>\n",
       "      <th>2</th>\n",
       "      <td>3</td>\n",
       "      <td>Atlético MG</td>\n",
       "      <td>67</td>\n",
       "      <td>38</td>\n",
       "      <td>20</td>\n",
       "      <td>7</td>\n",
       "      <td>11</td>\n",
       "      <td>63</td>\n",
       "      <td>45</td>\n",
       "      <td>18</td>\n",
       "      <td>58.8%</td>\n",
       "    </tr>\n",
       "    <tr>\n",
       "      <th>3</th>\n",
       "      <td>4</td>\n",
       "      <td>São Paulo SP</td>\n",
       "      <td>66</td>\n",
       "      <td>38</td>\n",
       "      <td>18</td>\n",
       "      <td>12</td>\n",
       "      <td>8</td>\n",
       "      <td>59</td>\n",
       "      <td>41</td>\n",
       "      <td>18</td>\n",
       "      <td>57.9%</td>\n",
       "    </tr>\n",
       "    <tr>\n",
       "      <th>4</th>\n",
       "      <td>5</td>\n",
       "      <td>Fluminense RJ</td>\n",
       "      <td>64</td>\n",
       "      <td>38</td>\n",
       "      <td>18</td>\n",
       "      <td>10</td>\n",
       "      <td>10</td>\n",
       "      <td>55</td>\n",
       "      <td>42</td>\n",
       "      <td>13</td>\n",
       "      <td>56.1%</td>\n",
       "    </tr>\n",
       "    <tr>\n",
       "      <th>5</th>\n",
       "      <td>6</td>\n",
       "      <td>Grêmio RS</td>\n",
       "      <td>61</td>\n",
       "      <td>38</td>\n",
       "      <td>15</td>\n",
       "      <td>16</td>\n",
       "      <td>7</td>\n",
       "      <td>53</td>\n",
       "      <td>39</td>\n",
       "      <td>14</td>\n",
       "      <td>53.5%</td>\n",
       "    </tr>\n",
       "    <tr>\n",
       "      <th>6</th>\n",
       "      <td>7</td>\n",
       "      <td>Palmeiras SP</td>\n",
       "      <td>58</td>\n",
       "      <td>38</td>\n",
       "      <td>15</td>\n",
       "      <td>13</td>\n",
       "      <td>10</td>\n",
       "      <td>51</td>\n",
       "      <td>37</td>\n",
       "      <td>14</td>\n",
       "      <td>51%</td>\n",
       "    </tr>\n",
       "    <tr>\n",
       "      <th>7</th>\n",
       "      <td>8</td>\n",
       "      <td>Santos SP</td>\n",
       "      <td>54</td>\n",
       "      <td>38</td>\n",
       "      <td>14</td>\n",
       "      <td>12</td>\n",
       "      <td>12</td>\n",
       "      <td>52</td>\n",
       "      <td>51</td>\n",
       "      <td>1</td>\n",
       "      <td>47.4%</td>\n",
       "    </tr>\n",
       "    <tr>\n",
       "      <th>8</th>\n",
       "      <td>9</td>\n",
       "      <td>Athletico PR</td>\n",
       "      <td>53</td>\n",
       "      <td>38</td>\n",
       "      <td>15</td>\n",
       "      <td>8</td>\n",
       "      <td>15</td>\n",
       "      <td>38</td>\n",
       "      <td>36</td>\n",
       "      <td>2</td>\n",
       "      <td>46.5%</td>\n",
       "    </tr>\n",
       "    <tr>\n",
       "      <th>9</th>\n",
       "      <td>10</td>\n",
       "      <td>Red Bull Bragantino SP</td>\n",
       "      <td>53</td>\n",
       "      <td>38</td>\n",
       "      <td>13</td>\n",
       "      <td>14</td>\n",
       "      <td>11</td>\n",
       "      <td>50</td>\n",
       "      <td>40</td>\n",
       "      <td>10</td>\n",
       "      <td>46.5%</td>\n",
       "    </tr>\n",
       "    <tr>\n",
       "      <th>10</th>\n",
       "      <td>11</td>\n",
       "      <td>Ceará CE</td>\n",
       "      <td>52</td>\n",
       "      <td>38</td>\n",
       "      <td>14</td>\n",
       "      <td>10</td>\n",
       "      <td>14</td>\n",
       "      <td>54</td>\n",
       "      <td>51</td>\n",
       "      <td>3</td>\n",
       "      <td>45.6%</td>\n",
       "    </tr>\n",
       "    <tr>\n",
       "      <th>11</th>\n",
       "      <td>12</td>\n",
       "      <td>Corinthians SP</td>\n",
       "      <td>51</td>\n",
       "      <td>38</td>\n",
       "      <td>13</td>\n",
       "      <td>12</td>\n",
       "      <td>13</td>\n",
       "      <td>45</td>\n",
       "      <td>45</td>\n",
       "      <td>0</td>\n",
       "      <td>44.7%</td>\n",
       "    </tr>\n",
       "    <tr>\n",
       "      <th>12</th>\n",
       "      <td>13</td>\n",
       "      <td>Atlético GO</td>\n",
       "      <td>50</td>\n",
       "      <td>38</td>\n",
       "      <td>12</td>\n",
       "      <td>14</td>\n",
       "      <td>12</td>\n",
       "      <td>40</td>\n",
       "      <td>45</td>\n",
       "      <td>-5</td>\n",
       "      <td>43.9%</td>\n",
       "    </tr>\n",
       "    <tr>\n",
       "      <th>13</th>\n",
       "      <td>14</td>\n",
       "      <td>Bahia BA</td>\n",
       "      <td>44</td>\n",
       "      <td>38</td>\n",
       "      <td>12</td>\n",
       "      <td>8</td>\n",
       "      <td>18</td>\n",
       "      <td>48</td>\n",
       "      <td>59</td>\n",
       "      <td>-11</td>\n",
       "      <td>38.6%</td>\n",
       "    </tr>\n",
       "    <tr>\n",
       "      <th>14</th>\n",
       "      <td>15</td>\n",
       "      <td>Fortaleza CE</td>\n",
       "      <td>43</td>\n",
       "      <td>38</td>\n",
       "      <td>11</td>\n",
       "      <td>10</td>\n",
       "      <td>17</td>\n",
       "      <td>36</td>\n",
       "      <td>44</td>\n",
       "      <td>-8</td>\n",
       "      <td>37.7%</td>\n",
       "    </tr>\n",
       "    <tr>\n",
       "      <th>15</th>\n",
       "      <td>16</td>\n",
       "      <td>Sport PE</td>\n",
       "      <td>42</td>\n",
       "      <td>38</td>\n",
       "      <td>12</td>\n",
       "      <td>6</td>\n",
       "      <td>20</td>\n",
       "      <td>31</td>\n",
       "      <td>50</td>\n",
       "      <td>-19</td>\n",
       "      <td>36.8%</td>\n",
       "    </tr>\n",
       "    <tr>\n",
       "      <th>16</th>\n",
       "      <td>17</td>\n",
       "      <td>Vasco da Gama RJ</td>\n",
       "      <td>41</td>\n",
       "      <td>38</td>\n",
       "      <td>10</td>\n",
       "      <td>11</td>\n",
       "      <td>17</td>\n",
       "      <td>37</td>\n",
       "      <td>56</td>\n",
       "      <td>-19</td>\n",
       "      <td>36.0%</td>\n",
       "    </tr>\n",
       "    <tr>\n",
       "      <th>17</th>\n",
       "      <td>18</td>\n",
       "      <td>Goiás GO</td>\n",
       "      <td>37</td>\n",
       "      <td>38</td>\n",
       "      <td>9</td>\n",
       "      <td>10</td>\n",
       "      <td>19</td>\n",
       "      <td>41</td>\n",
       "      <td>63</td>\n",
       "      <td>-22</td>\n",
       "      <td>32.5%</td>\n",
       "    </tr>\n",
       "    <tr>\n",
       "      <th>18</th>\n",
       "      <td>19</td>\n",
       "      <td>Coritiba PR</td>\n",
       "      <td>30</td>\n",
       "      <td>38</td>\n",
       "      <td>7</td>\n",
       "      <td>9</td>\n",
       "      <td>22</td>\n",
       "      <td>31</td>\n",
       "      <td>56</td>\n",
       "      <td>-25</td>\n",
       "      <td>26.3%</td>\n",
       "    </tr>\n",
       "    <tr>\n",
       "      <th>19</th>\n",
       "      <td>20</td>\n",
       "      <td>Botafogo RJ</td>\n",
       "      <td>27</td>\n",
       "      <td>38</td>\n",
       "      <td>5</td>\n",
       "      <td>12</td>\n",
       "      <td>21</td>\n",
       "      <td>32</td>\n",
       "      <td>62</td>\n",
       "      <td>-30</td>\n",
       "      <td>23.7%</td>\n",
       "    </tr>\n",
       "  </tbody>\n",
       "</table>\n",
       "</div>"
      ],
      "text/plain": [
       "    Classificação                    Time  Pontos  Jogos  Vitórias  Empates  \\\n",
       "0               1             Flamengo RJ      71     38        21        8   \n",
       "1               2        Internacional RS      70     38        20       10   \n",
       "2               3             Atlético MG      67     38        20        7   \n",
       "3               4            São Paulo SP      66     38        18       12   \n",
       "4               5           Fluminense RJ      64     38        18       10   \n",
       "5               6               Grêmio RS      61     38        15       16   \n",
       "6               7            Palmeiras SP      58     38        15       13   \n",
       "7               8               Santos SP      54     38        14       12   \n",
       "8               9            Athletico PR      53     38        15        8   \n",
       "9              10  Red Bull Bragantino SP      53     38        13       14   \n",
       "10             11                Ceará CE      52     38        14       10   \n",
       "11             12          Corinthians SP      51     38        13       12   \n",
       "12             13             Atlético GO      50     38        12       14   \n",
       "13             14                Bahia BA      44     38        12        8   \n",
       "14             15            Fortaleza CE      43     38        11       10   \n",
       "15             16                Sport PE      42     38        12        6   \n",
       "16             17        Vasco da Gama RJ      41     38        10       11   \n",
       "17             18                Goiás GO      37     38         9       10   \n",
       "18             19             Coritiba PR      30     38         7        9   \n",
       "19             20             Botafogo RJ      27     38         5       12   \n",
       "\n",
       "    Derrotas  Gols pró  Gols contra  Saldo de gols Aproveitamento  \n",
       "0          9        68           48             20          62.3%  \n",
       "1          8        61           35             26          61.4%  \n",
       "2         11        63           45             18          58.8%  \n",
       "3          8        59           41             18          57.9%  \n",
       "4         10        55           42             13          56.1%  \n",
       "5          7        53           39             14          53.5%  \n",
       "6         10        51           37             14            51%  \n",
       "7         12        52           51              1          47.4%  \n",
       "8         15        38           36              2          46.5%  \n",
       "9         11        50           40             10          46.5%  \n",
       "10        14        54           51              3          45.6%  \n",
       "11        13        45           45              0          44.7%  \n",
       "12        12        40           45             -5          43.9%  \n",
       "13        18        48           59            -11          38.6%  \n",
       "14        17        36           44             -8          37.7%  \n",
       "15        20        31           50            -19          36.8%  \n",
       "16        17        37           56            -19          36.0%  \n",
       "17        19        41           63            -22          32.5%  \n",
       "18        22        31           56            -25          26.3%  \n",
       "19        21        32           62            -30          23.7%  "
      ]
     },
     "execution_count": 22,
     "metadata": {},
     "output_type": "execute_result"
    }
   ],
   "source": [
    "import pandas as pd\n",
    "import numpy as np\n",
    "tabela2020 = pd.read_csv('campeonatobrasileiro2020.csv')\n",
    "tabela2020"
   ]
  },
  {
   "cell_type": "markdown",
   "metadata": {},
   "source": [
    "### Correlação entre Pontos e gols marcados"
   ]
  },
  {
   "cell_type": "code",
   "execution_count": 29,
   "metadata": {
    "scrolled": false
   },
   "outputs": [
    {
     "data": {
      "text/html": [
       "<div>\n",
       "<style scoped>\n",
       "    .dataframe tbody tr th:only-of-type {\n",
       "        vertical-align: middle;\n",
       "    }\n",
       "\n",
       "    .dataframe tbody tr th {\n",
       "        vertical-align: top;\n",
       "    }\n",
       "\n",
       "    .dataframe thead th {\n",
       "        text-align: right;\n",
       "    }\n",
       "</style>\n",
       "<table border=\"1\" class=\"dataframe\">\n",
       "  <thead>\n",
       "    <tr style=\"text-align: right;\">\n",
       "      <th></th>\n",
       "      <th>Pontos</th>\n",
       "      <th>Gols pró</th>\n",
       "    </tr>\n",
       "  </thead>\n",
       "  <tbody>\n",
       "    <tr>\n",
       "      <th>Pontos</th>\n",
       "      <td>1.000000</td>\n",
       "      <td>0.902079</td>\n",
       "    </tr>\n",
       "    <tr>\n",
       "      <th>Gols pró</th>\n",
       "      <td>0.902079</td>\n",
       "      <td>1.000000</td>\n",
       "    </tr>\n",
       "  </tbody>\n",
       "</table>\n",
       "</div>"
      ],
      "text/plain": [
       "            Pontos  Gols pró\n",
       "Pontos    1.000000  0.902079\n",
       "Gols pró  0.902079  1.000000"
      ]
     },
     "execution_count": 29,
     "metadata": {},
     "output_type": "execute_result"
    }
   ],
   "source": [
    "tabela2020[[\"Pontos\",\"Gols pró\"]].corr()"
   ]
  },
  {
   "cell_type": "code",
   "execution_count": 27,
   "metadata": {},
   "outputs": [
    {
     "data": {
      "text/plain": [
       "<matplotlib.axes._subplots.AxesSubplot at 0x1d40c2e9ca0>"
      ]
     },
     "execution_count": 27,
     "metadata": {},
     "output_type": "execute_result"
    },
    {
     "data": {
      "image/png": "[encoded data removed]",
      "text/plain": [
       "<Figure size 432x288 with 1 Axes>"
      ]
     },
     "metadata": {
      "needs_background": "light"
     },
     "output_type": "display_data"
    }
   ],
   "source": [
    "tabela2020.plot.scatter(x =\"Pontos\", y= \"Gols pró\")"
   ]
  },
  {
   "cell_type": "markdown",
   "metadata": {},
   "source": [
    "### Correlação entre Pontos e gols sofridos"
   ]
  },
  {
   "cell_type": "code",
   "execution_count": 31,
   "metadata": {},
   "outputs": [
    {
     "data": {
      "text/html": [
       "<div>\n",
       "<style scoped>\n",
       "    .dataframe tbody tr th:only-of-type {\n",
       "        vertical-align: middle;\n",
       "    }\n",
       "\n",
       "    .dataframe tbody tr th {\n",
       "        vertical-align: top;\n",
       "    }\n",
       "\n",
       "    .dataframe thead th {\n",
       "        text-align: right;\n",
       "    }\n",
       "</style>\n",
       "<table border=\"1\" class=\"dataframe\">\n",
       "  <thead>\n",
       "    <tr style=\"text-align: right;\">\n",
       "      <th></th>\n",
       "      <th>Pontos</th>\n",
       "      <th>Gols contra</th>\n",
       "    </tr>\n",
       "  </thead>\n",
       "  <tbody>\n",
       "    <tr>\n",
       "      <th>Pontos</th>\n",
       "      <td>1.000000</td>\n",
       "      <td>-0.733972</td>\n",
       "    </tr>\n",
       "    <tr>\n",
       "      <th>Gols contra</th>\n",
       "      <td>-0.733972</td>\n",
       "      <td>1.000000</td>\n",
       "    </tr>\n",
       "  </tbody>\n",
       "</table>\n",
       "</div>"
      ],
      "text/plain": [
       "               Pontos  Gols contra\n",
       "Pontos       1.000000    -0.733972\n",
       "Gols contra -0.733972     1.000000"
      ]
     },
     "execution_count": 31,
     "metadata": {},
     "output_type": "execute_result"
    }
   ],
   "source": [
    "tabela2020[[\"Pontos\",\"Gols contra\"]].corr()"
   ]
  },
  {
   "cell_type": "code",
   "execution_count": 32,
   "metadata": {},
   "outputs": [
    {
     "data": {
      "text/plain": [
       "<matplotlib.axes._subplots.AxesSubplot at 0x1d40c455520>"
      ]
     },
     "execution_count": 32,
     "metadata": {},
     "output_type": "execute_result"
    },
    {
     "data": {
      "image/png": "[encoded data removed]",
      "text/plain": [
       "<Figure size 432x288 with 1 Axes>"
      ]
     },
     "metadata": {
      "needs_background": "light"
     },
     "output_type": "display_data"
    }
   ],
   "source": [
    "tabela2020.plot.scatter(x =\"Pontos\", y= \"Gols contra\")"
   ]
  },
  {
   "cell_type": "markdown",
   "metadata": {},
   "source": [
    "### Análise dos Resultados\n",
    "\n",
    "Qual o nível (fraco, moderado, forte) das correlações entre as variáveis analisadas?"
   ]
  },
  {
   "cell_type": "markdown",
   "metadata": {},
   "source": [
    "**RESPONDA AQUI**"
   ]
  },
  {
   "cell_type": "code",
   "execution_count": null,
   "metadata": {},
   "outputs": [],
   "source": [
    "# forte"
   ]
  },
  {
   "cell_type": "markdown",
   "metadata": {},
   "source": [
    "De acordo com os dados analisados, é melhor um time focar em marcar mais gols ou sofrer menos gols?"
   ]
  },
  {
   "cell_type": "markdown",
   "metadata": {},
   "source": [
    "**RESPONDA AQUI**"
   ]
  },
  {
   "cell_type": "code",
   "execution_count": null,
   "metadata": {},
   "outputs": [],
   "source": [
    "# sofrer menos gols"
   ]
  }
 ],
 "metadata": {
  "kernelspec": {
   "display_name": "Python 3",
   "language": "python",
   "name": "python3"
  },
  "language_info": {
   "codemirror_mode": {
    "name": "ipython",
    "version": 3
   },
   "file_extension": ".py",
   "mimetype": "text/x-python",
   "name": "python",
   "nbconvert_exporter": "python",
   "pygments_lexer": "ipython3",
   "version": "3.8.3"
  }
 },
 "nbformat": 4,
 "nbformat_minor": 4
}
